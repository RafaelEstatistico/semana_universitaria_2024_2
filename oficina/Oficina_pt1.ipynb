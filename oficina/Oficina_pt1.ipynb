{
  "metadata": {
    "kernelspec": {
      "name": "python",
      "display_name": "Python (Pyodide)",
      "language": "python"
    },
    "language_info": {
      "codemirror_mode": {
        "name": "python",
        "version": 3
      },
      "file_extension": ".py",
      "mimetype": "text/x-python",
      "name": "python",
      "nbconvert_exporter": "python",
      "pygments_lexer": "ipython3",
      "version": "3.8"
    }
  },
  "nbformat_minor": 4,
  "nbformat": 4,
  "cells": [
    {
      "cell_type": "markdown",
      "source": "# Semana Acadêmica de Administração - UnB\n## 2024/2º  \n\nAutor: Rafael Lima de Morais  \nfonte: https://github.com/RafaelEstatistico/semana_universitaria_2024_2",
      "metadata": {}
    },
    {
      "cell_type": "markdown",
      "source": "### Oficina introdutória de classificação com Aprendizado de Máquina\nDataset: [Kagle: 70k+ Job Applicants Data (Human Resource)](https://www.kaggle.com/datasets/ayushtankha/70k-job-applicants-data-human-resource/data).  \nNotebook referência: [rahulcris07: ProgrammerEmploymentPrediction(EDA+ML) 0.88 AUC](https://www.kaggle.com/code/rahulcris07/programmeremploymentprediction-eda-ml-0-88-auc)   ",
      "metadata": {}
    },
    {
      "cell_type": "markdown",
      "source": "### 1. Entendendo os dados\n**Introdução:**  \nO conjunto de dados intitulado \"Classificação de Empregabilidade de Mais de 70.000 Candidatos a Emprego\" contém uma coleção abrangente de informações sobre candidatos a emprego e suas respectivas pontuações de empregabilidade. O conjunto de dados foi compilado para auxiliar organizações e recrutadores na avaliação da adequação dos candidatos para várias oportunidades de emprego. Utilizando técnicas de machine learning, este conjunto de dados visa fornecer insights valiosos sobre os fatores que influenciam a empregabilidade e aumentar a eficiência do processo de contratação.\n\nCom base nos resultados da pesquisa, construímos um conjunto de dados com as seguintes colunas:\n\n**Age:** idade do candidato, >35 anos ou <35 anos (categórico)   \n**EdLevel:** nível educacional do candidato (Graduação, Mestrado, Doutorado, etc.) (categórico)   \n**Gender:** gênero do candidato (Homem, Mulher ou Não Binário) (categórico)   \n**MainBranch:** se o candidato é um desenvolvedor profissional (categórico)   \n**YearsCode:** há quanto tempo o candidato programa (inteiro)   \n**YearsCodePro:** há quanto tempo o candidato programa profissionalmente (inteiro)   \n**PreviousSalary:** o salário anterior do candidato (float)   \n**ComputerSkills:** número de habilidades computacionais conhecidas pelo candidato (inteiro)   \n**Employed:** variável alvo, se o candidato foi contratado (categórico)  \n\n*Coleta de Dados:* O conjunto de dados foi meticulosamente coletado de diversas fontes, incluindo portais de emprego, feiras de carreira e candidaturas online, durante um período especificado. As informações foram coletadas de maneira padronizada, garantindo consistência entre os vários pontos de dados. O conjunto de dados abrange uma ampla gama de indústrias, posições e qualificações, tornando-o adequado para analisar tendências de empregabilidade em diferentes setores.\n\n*Estrutura dos Dados:* O conjunto de dados é composto por dados estruturados, organizados em várias colunas ou características. Cada linha representa um candidato individual a emprego, enquanto as colunas contêm vários atributos e características associadas aos candidatos. A seguir estão algumas das principais características incluídas no conjunto de dados:\n\nInformações Pessoais:  \nNome: O nome completo do candidato   \nGênero: O gênero do candidato   \nIdade: A idade do candidato  \nInformações de Contato: Endereço de e-mail, número de telefone, etc.  \n\nFormação Educacional:  \nGrau: O maior grau obtido pelo candidato   \nUniversidade/Instituição: Nome da instituição educacional  \nÁrea de Estudo: Área de especialização   \nAno de Graduação: O ano de graduação\n  \nExperiência de Trabalho:  \nExperiência de Trabalho Anterior: Detalhes de posições de trabalho anteriores   \nAnos de Experiência: Total de anos de experiência profissional\n  \nHabilidades e Certificações:  \nHabilidades Técnicas: Habilidades técnicas específicas possuídas pelo candidato   \nCertificações: Certificações profissionais obtidas\n  \nPontuação de Empregabilidade:  \nClassificação de Empregabilidade: Uma pontuação numérica ou categórica indicando o nível de empregabilidade ou adequação do candidato para uma determinada função. Esta pontuação é o resultado da aplicação de um algoritmo de classificação ao conjunto de dados.\n  \nPré-processamento de Dados: Para garantir a qualidade e consistência dos dados, o conjunto de dados passou por etapas de pré-processamento, incluindo limpeza de dados, normalização e engenharia de características. Outliers e valores ausentes foram tratados adequadamente para garantir a confiabilidade e precisão do conjunto de dados. Qualquer informação de identificação pessoal foi anonimizada ou removida para preservar a privacidade e confidencialidade dos candidatos.\n\n**Metadados**  \n| Coluna             | Tipo        | Descrição                                                          |\n|--------------------|-------------|--------------------------------------------------------------------|\n| Age                | Categórico  | Idade do candidato (>35 anos ou <35 anos)                          |\n| EdLevel            | Categórico  | Nível educacional do candidato (Graduação, Mestrado, Doutorado, etc.) |\n| Gender             | Categórico  | Gênero do candidato (Homem, Mulher, Não Binário)                   |\n| MainBranch         | Categórico  | Se o candidato é um desenvolvedor profissional                     |\n| YearsCode          | Inteiro     | Há quanto tempo o candidato programa                               |\n| YearsCodePro       | Inteiro     | Há quanto tempo o candidato programa profissionalmente             |\n| PreviousSalary     | Float       | Salário anterior do candidato                                      |\n| ComputerSkills     | Inteiro     | Número de habilidades computacionais conhecidas pelo candidato     |\n| Employed           | Categórico  | Se o candidato foi contratado                                      |\n",
      "metadata": {}
    },
    {
      "cell_type": "markdown",
      "source": "#### Antes de executar\nBaixar os dados e mover o arquivo descompactado `stackoverflow_full.csv` para a pasta raiz do diretório.  \nOs dados podem ser encontrados na página do [dataset no Kagle](https://www.kaggle.com/datasets/ayushtankha/70k-job-applicants-data-human-resource/data) ou diretamente no [github do curso](https://github.com/RafaelEstatistico/semana_universitaria_2024_2).  ",
      "metadata": {}
    },
    {
      "cell_type": "code",
      "source": "# Bibliotecas utilizadas\nimport pandas as pd\nimport numpy as np\nimport matplotlib.pyplot as plt\nfrom sklearn import preprocessing\nfrom sklearn.preprocessing import LabelEncoder\nfrom sklearn.model_selection import train_test_split\nfrom sklearn.metrics import confusion_matrix, roc_auc_score, roc_curve, auc\nfrom sklearn.metrics import accuracy_score, f1_score, precision_score, recall_score",
      "metadata": {
        "trusted": true
      },
      "outputs": [],
      "execution_count": null
    },
    {
      "cell_type": "code",
      "source": "df = pd.read_csv(\"stackoverflow_full.csv\")\n\n# Printa primeiras linhas dos dados\ndf.head()",
      "metadata": {
        "trusted": true
      },
      "outputs": [],
      "execution_count": null
    },
    {
      "cell_type": "code",
      "source": "# Dimensões dos dados: (nº de linhas, nº de colunas)\ndf.shape",
      "metadata": {
        "trusted": true
      },
      "outputs": [],
      "execution_count": null
    },
    {
      "cell_type": "code",
      "source": "# Informações do dataset com colunas e formatos\ndf.info()",
      "metadata": {
        "trusted": true
      },
      "outputs": [],
      "execution_count": null
    },
    {
      "cell_type": "code",
      "source": "# Removendo coluna Unnamed: 0 column\ndf.drop(columns = 'Unnamed: 0', inplace=True)",
      "metadata": {
        "trusted": true
      },
      "outputs": [],
      "execution_count": null
    },
    {
      "cell_type": "code",
      "source": "# Verificação de valores nulos\nmissing_values = df.isna().sum()\n\n# Apresenta a quantidade de linhas Nulas para cada coluna\nprint(missing_values)",
      "metadata": {
        "trusted": true
      },
      "outputs": [],
      "execution_count": null
    },
    {
      "cell_type": "code",
      "source": "# Remoção de observações com Nulos na coluna 'HaveWorkedWith'\ndf.drop(columns = 'HaveWorkedWith', inplace=True)",
      "metadata": {
        "trusted": true
      },
      "outputs": [],
      "execution_count": null
    },
    {
      "cell_type": "code",
      "source": "# Verificação de campo País\ndf.Country.value_counts()",
      "metadata": {
        "trusted": true
      },
      "outputs": [],
      "execution_count": null
    },
    {
      "cell_type": "code",
      "source": "# Lista de todos os 172 paises distintos\ndf.Country.unique()",
      "metadata": {
        "trusted": true
      },
      "outputs": [],
      "execution_count": null
    },
    {
      "cell_type": "code",
      "source": "# Define uma função para segmentar os paises em continentes\ndef segment_country(country):\n    if country in ['United States of America', 'Canada', 'Mexico']:\n        return 'NorthAmerica'\n    elif country in ['United Kingdom of Great Britain and Northern Ireland', 'France', 'Germany', 'Spain', 'Italy', 'Portugal', 'Belgium', 'Netherlands', 'Austria', 'Switzerland', 'Denmark', 'Ireland', 'Norway', 'Sweden', 'Finland', 'Greece', 'Czech Republic', 'Slovakia', 'Hungary', 'Poland']:\n        return 'Europe'\n    elif country in ['Brazil', 'Argentina', 'Chile', 'Colombia', 'Peru', 'Venezuela, Bolivarian Republic of...', 'Bolivia']:\n        return 'South America'\n    elif country in ['China', 'Japan', 'South Korea', 'Viet Nam', 'India', 'Sri Lanka', 'Pakistan', 'Bangladesh', 'Indonesia', 'Malaysia', 'Philippines', 'Taiwan', 'Thailand', 'Cambodia', 'Myanmar', 'Laos', 'Singapore', 'Hong Kong (S.A.R.)']:\n        return 'Asia'\n    elif country in ['Australia', 'New Zealand', 'Fiji', 'Papua New Guinea', 'Solomon Islands', 'Vanuatu', 'Samoa', 'Tonga']:\n        return 'Australia'\n    else:\n        return 'Others' \n\n# Cria a nova coluna'Continent'\ndf['Continent'] = df['Country'].apply(segment_country)",
      "metadata": {
        "trusted": true
      },
      "outputs": [],
      "execution_count": null
    },
    {
      "cell_type": "code",
      "source": "continent_counts = df['Continent'].value_counts()\ncontinent_counts",
      "metadata": {
        "trusted": true
      },
      "outputs": [],
      "execution_count": null
    },
    {
      "cell_type": "code",
      "source": "df.Continent.unique()",
      "metadata": {
        "trusted": true
      },
      "outputs": [],
      "execution_count": null
    },
    {
      "cell_type": "code",
      "source": "# visualização em gráfico de pizza\nplt.figure(figsize=(8, 8))\nplt.pie(continent_counts, labels=continent_counts.index, autopct='%1.1f%%', startangle=140, colors=['skyblue', 'lightcoral', 'lightgreen', 'lightgray', 'lightpink', 'lightyellow'])\nplt.title('Distribution of Countries by Continent')\nplt.axis('equal')  # Equal aspect ratio ensures that pie is drawn as a circle.\n\n# Display the plot\nplt.show()",
      "metadata": {
        "trusted": true
      },
      "outputs": [],
      "execution_count": null
    },
    {
      "cell_type": "code",
      "source": "# Verificando países classificados em 'Others'\ndf[df['Continent'] == 'Others'].Country.value_counts()",
      "metadata": {
        "trusted": true
      },
      "outputs": [],
      "execution_count": null
    },
    {
      "cell_type": "code",
      "source": "df[\"Age\"].value_counts().plot.bar()\nplt.xlabel('Grupo etário')\nplt.ylabel('Quantidade')\nplt.title('Distribuição de idades dos respondentes')\nplt.xticks(rotation=45)\nplt.show()",
      "metadata": {
        "trusted": true
      },
      "outputs": [],
      "execution_count": null
    },
    {
      "cell_type": "code",
      "source": "continent_counts = df['Continent'].value_counts()\n\n# Create a bar plot\nplt.figure(figsize=(10, 6))\nplt.bar(continent_counts.index, continent_counts.values, color='skyblue')\nplt.xlabel('Continent')\nplt.ylabel('Count')\nplt.title('Distribution of Countries by Continent')\nplt.xticks(rotation=45)  # Rotate x-axis labels for better readability\nplt.tight_layout()\n\nplt.show()",
      "metadata": {
        "trusted": true
      },
      "outputs": [],
      "execution_count": null
    },
    {
      "cell_type": "code",
      "source": "# Calcula a matriz de correlação\ncorrelation_matrix = df.select_dtypes(include='number').corr()\n\nprint(correlation_matrix)",
      "metadata": {
        "trusted": true
      },
      "outputs": [],
      "execution_count": null
    },
    {
      "cell_type": "code",
      "source": "labels = correlation_matrix.columns\n\nfig, ax = plt.subplots(figsize=(10, 10))\nax.matshow(correlation_matrix)\nplt.xticks(range(len(labels)), labels)\nplt.yticks(range(len(labels)), labels)",
      "metadata": {
        "trusted": true
      },
      "outputs": [],
      "execution_count": null
    },
    {
      "cell_type": "code",
      "source": "df.boxplot(by = 'Age', column  = 'PreviousSalary')\nplt.show() ",
      "metadata": {
        "trusted": true
      },
      "outputs": [],
      "execution_count": null
    },
    {
      "cell_type": "code",
      "source": "df.boxplot(by = 'Continent', column  = 'PreviousSalary')\nplt.show() ",
      "metadata": {
        "trusted": true
      },
      "outputs": [],
      "execution_count": null
    },
    {
      "cell_type": "code",
      "source": "df.describe()",
      "metadata": {
        "trusted": true
      },
      "outputs": [],
      "execution_count": null
    },
    {
      "cell_type": "code",
      "source": "df.describe(include = 'object').transpose()",
      "metadata": {
        "trusted": true
      },
      "outputs": [],
      "execution_count": null
    },
    {
      "cell_type": "markdown",
      "source": "### 2. Preparação dos dados  \nTratamentos para que o modelo possa processar.",
      "metadata": {}
    },
    {
      "cell_type": "code",
      "source": "# Temos muitas categorias de paises, remover antes de dummies\ndf.drop(columns = 'Country', inplace=True)",
      "metadata": {
        "trusted": true
      },
      "outputs": [],
      "execution_count": null
    },
    {
      "cell_type": "code",
      "source": "cat_cols = df.select_dtypes(include='object').columns\ncat_cols",
      "metadata": {
        "trusted": true
      },
      "outputs": [],
      "execution_count": null
    },
    {
      "cell_type": "code",
      "source": "# One-hot encoding\ndf_encoded = pd.get_dummies(df, columns=cat_cols)\ndf_encoded.tail()",
      "metadata": {
        "trusted": true
      },
      "outputs": [],
      "execution_count": null
    },
    {
      "cell_type": "code",
      "source": "df_encoded.info()",
      "metadata": {
        "trusted": true
      },
      "outputs": [],
      "execution_count": null
    },
    {
      "cell_type": "code",
      "source": "%%time\nfrom sklearn.ensemble import RandomForestClassifier\nfrom sklearn.metrics import classification_report\n\n# Selecionar colunas de interesse\nX = df_encoded.drop(\"Employed\", axis=1)\ny = df_encoded['Employed'] # Target\n\n# Dividir o dataset em conjuntos de treino e teste\nX_train, X_test, y_train, y_test = train_test_split(X, y, test_size=0.3, random_state=42)\n\n# Treinar o modelo\nmodelo = RandomForestClassifier()\nmodelo.fit(X_train, y_train)\n\n# Fazer previsões\ny_pred_train = modelo.predict(X_train)\ny_pred_test = modelo.predict(X_test)\n\n# Avaliar o modelo\nprint(classification_report(y_test, y_pred_test))",
      "metadata": {
        "trusted": true
      },
      "outputs": [],
      "execution_count": null
    },
    {
      "cell_type": "code",
      "source": "acuracia_treino = accuracy_score(y_train, y_pred_train)\nacuracia_teste = accuracy_score(y_test, y_pred_test)\nprint(f\"Acurácia Treino: {acuracia_treino:.3f}, Acurácia Teste : {acuracia_teste:.3f}\")",
      "metadata": {
        "trusted": true
      },
      "outputs": [],
      "execution_count": null
    },
    {
      "cell_type": "markdown",
      "source": "### Testando diferentes classificadores \nMétodos testados: `KNeighborsClassifier`, `SVC`, `LogisticRegression`, `GradientBoostingClassifier`, `GradientBoostingClassifier`.  \nOutros métodos disponíveis em: [scikit-learn/supervised_learning](https://scikit-learn.org/1.5/supervised_learning.html)",
      "metadata": {}
    },
    {
      "cell_type": "code",
      "source": "from sklearn.neighbors import KNeighborsClassifier\nfrom sklearn.neural_network import MLPClassifier\nfrom sklearn.ensemble import GradientBoostingClassifier\nfrom sklearn.metrics import accuracy_score\n\nmodelos = {\n    \"Random Forest\": RandomForestClassifier(),\n    \"KNN\": KNeighborsClassifier(),\n    \"Multi-Layer Perceptron\": MLPClassifier(),\n    \"Gradient Boosting\": GradientBoostingClassifier()\n}",
      "metadata": {
        "trusted": true
      },
      "outputs": [],
      "execution_count": null
    },
    {
      "cell_type": "code",
      "source": "%%time\nresultados = {}\n\nfor nome, modelo in modelos.items():\n    print(f\"Executando modelo: {nome}\")\n    modelo.fit(X_train, y_train)\n    y_pred_train = modelo.predict(X_train)\n    y_pred_test = modelo.predict(X_test)\n    acuracia_treino = accuracy_score(y_train, y_pred_train)\n    acuracia_teste = accuracy_score(y_test, y_pred_test)\n    resultados[nome] = {\"Acurácia Treino\": acuracia_treino, \"Acurácia Teste\": acuracia_teste}\n\n# Tabular resultados\nresultados_df = pd.DataFrame(resultados).T\nprint(resultados_df)",
      "metadata": {
        "trusted": true
      },
      "outputs": [],
      "execution_count": null
    },
    {
      "cell_type": "code",
      "source": "",
      "metadata": {
        "trusted": true
      },
      "outputs": [],
      "execution_count": null
    }
  ]
}